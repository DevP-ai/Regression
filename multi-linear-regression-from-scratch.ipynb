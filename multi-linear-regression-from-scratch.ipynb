{
 "cells": [
  {
   "cell_type": "code",
   "execution_count": 1,
   "id": "2d065bb9",
   "metadata": {
    "_cell_guid": "b1076dfc-b9ad-4769-8c92-a6c4dae69d19",
    "_uuid": "8f2839f25d086af736a60e9eeb907d3b93b6e0e5",
    "execution": {
     "iopub.execute_input": "2022-11-29T10:03:35.161644Z",
     "iopub.status.busy": "2022-11-29T10:03:35.160631Z",
     "iopub.status.idle": "2022-11-29T10:03:35.175159Z",
     "shell.execute_reply": "2022-11-29T10:03:35.174064Z"
    },
    "papermill": {
     "duration": 0.0258,
     "end_time": "2022-11-29T10:03:35.178228",
     "exception": false,
     "start_time": "2022-11-29T10:03:35.152428",
     "status": "completed"
    },
    "tags": []
   },
   "outputs": [],
   "source": [
    "# This Python 3 environment comes with many helpful analytics libraries installed\n",
    "# It is defined by the kaggle/python Docker image: https://github.com/kaggle/docker-python\n",
    "# For example, here's several helpful packages to load\n",
    "\n",
    "import numpy as np # linear algebra\n",
    "import pandas as pd # data processing, CSV file I/O (e.g. pd.read_csv)\n",
    "\n",
    "# Input data files are available in the read-only \"../input/\" directory\n",
    "# For example, running this (by clicking run or pressing Shift+Enter) will list all files under the input directory\n",
    "\n",
    "import os\n",
    "for dirname, _, filenames in os.walk('/kaggle/input'):\n",
    "    for filename in filenames:\n",
    "        print(os.path.join(dirname, filename))\n",
    "\n",
    "# You can write up to 20GB to the current directory (/kaggle/working/) that gets preserved as output when you create a version using \"Save & Run All\" \n",
    "# You can also write temporary files to /kaggle/temp/, but they won't be saved outside of the current session"
   ]
  },
  {
   "cell_type": "code",
   "execution_count": 2,
   "id": "d0e8a22f",
   "metadata": {
    "execution": {
     "iopub.execute_input": "2022-11-29T10:03:35.191795Z",
     "iopub.status.busy": "2022-11-29T10:03:35.190617Z",
     "iopub.status.idle": "2022-11-29T10:03:36.436148Z",
     "shell.execute_reply": "2022-11-29T10:03:36.435036Z"
    },
    "papermill": {
     "duration": 1.255286,
     "end_time": "2022-11-29T10:03:36.439172",
     "exception": false,
     "start_time": "2022-11-29T10:03:35.183886",
     "status": "completed"
    },
    "tags": []
   },
   "outputs": [],
   "source": [
    "from sklearn.datasets import load_diabetes"
   ]
  },
  {
   "cell_type": "code",
   "execution_count": 3,
   "id": "9b7c4777",
   "metadata": {
    "execution": {
     "iopub.execute_input": "2022-11-29T10:03:36.453334Z",
     "iopub.status.busy": "2022-11-29T10:03:36.452322Z",
     "iopub.status.idle": "2022-11-29T10:03:36.476260Z",
     "shell.execute_reply": "2022-11-29T10:03:36.474960Z"
    },
    "papermill": {
     "duration": 0.033757,
     "end_time": "2022-11-29T10:03:36.479332",
     "exception": false,
     "start_time": "2022-11-29T10:03:36.445575",
     "status": "completed"
    },
    "tags": []
   },
   "outputs": [],
   "source": [
    "X,y=load_diabetes(return_X_y=True)"
   ]
  },
  {
   "cell_type": "code",
   "execution_count": 4,
   "id": "a2c6b049",
   "metadata": {
    "execution": {
     "iopub.execute_input": "2022-11-29T10:03:36.491495Z",
     "iopub.status.busy": "2022-11-29T10:03:36.491048Z",
     "iopub.status.idle": "2022-11-29T10:03:36.501802Z",
     "shell.execute_reply": "2022-11-29T10:03:36.500475Z"
    },
    "papermill": {
     "duration": 0.020207,
     "end_time": "2022-11-29T10:03:36.504788",
     "exception": false,
     "start_time": "2022-11-29T10:03:36.484581",
     "status": "completed"
    },
    "tags": []
   },
   "outputs": [
    {
     "data": {
      "text/plain": [
       "array([[ 0.03807591,  0.05068012,  0.06169621, ..., -0.00259226,\n",
       "         0.01990842, -0.01764613],\n",
       "       [-0.00188202, -0.04464164, -0.05147406, ..., -0.03949338,\n",
       "        -0.06832974, -0.09220405],\n",
       "       [ 0.08529891,  0.05068012,  0.04445121, ..., -0.00259226,\n",
       "         0.00286377, -0.02593034],\n",
       "       ...,\n",
       "       [ 0.04170844,  0.05068012, -0.01590626, ..., -0.01107952,\n",
       "        -0.04687948,  0.01549073],\n",
       "       [-0.04547248, -0.04464164,  0.03906215, ...,  0.02655962,\n",
       "         0.04452837, -0.02593034],\n",
       "       [-0.04547248, -0.04464164, -0.0730303 , ..., -0.03949338,\n",
       "        -0.00421986,  0.00306441]])"
      ]
     },
     "execution_count": 4,
     "metadata": {},
     "output_type": "execute_result"
    }
   ],
   "source": [
    "X"
   ]
  },
  {
   "cell_type": "code",
   "execution_count": 5,
   "id": "760690fc",
   "metadata": {
    "execution": {
     "iopub.execute_input": "2022-11-29T10:03:36.522630Z",
     "iopub.status.busy": "2022-11-29T10:03:36.520741Z",
     "iopub.status.idle": "2022-11-29T10:03:36.530900Z",
     "shell.execute_reply": "2022-11-29T10:03:36.529535Z"
    },
    "papermill": {
     "duration": 0.024741,
     "end_time": "2022-11-29T10:03:36.534840",
     "exception": false,
     "start_time": "2022-11-29T10:03:36.510099",
     "status": "completed"
    },
    "tags": []
   },
   "outputs": [
    {
     "data": {
      "text/plain": [
       "(442, 10)"
      ]
     },
     "execution_count": 5,
     "metadata": {},
     "output_type": "execute_result"
    }
   ],
   "source": [
    "X.shape"
   ]
  },
  {
   "cell_type": "code",
   "execution_count": 6,
   "id": "f4b238e8",
   "metadata": {
    "execution": {
     "iopub.execute_input": "2022-11-29T10:03:36.552664Z",
     "iopub.status.busy": "2022-11-29T10:03:36.551731Z",
     "iopub.status.idle": "2022-11-29T10:03:36.565225Z",
     "shell.execute_reply": "2022-11-29T10:03:36.563246Z"
    },
    "papermill": {
     "duration": 0.026898,
     "end_time": "2022-11-29T10:03:36.569043",
     "exception": false,
     "start_time": "2022-11-29T10:03:36.542145",
     "status": "completed"
    },
    "tags": []
   },
   "outputs": [
    {
     "data": {
      "text/plain": [
       "array([151.,  75., 141., 206., 135.,  97., 138.,  63., 110., 310., 101.,\n",
       "        69., 179., 185., 118., 171., 166., 144.,  97., 168.,  68.,  49.,\n",
       "        68., 245., 184., 202., 137.,  85., 131., 283., 129.,  59., 341.,\n",
       "        87.,  65., 102., 265., 276., 252.,  90., 100.,  55.,  61.,  92.,\n",
       "       259.,  53., 190., 142.,  75., 142., 155., 225.,  59., 104., 182.,\n",
       "       128.,  52.,  37., 170., 170.,  61., 144.,  52., 128.,  71., 163.,\n",
       "       150.,  97., 160., 178.,  48., 270., 202., 111.,  85.,  42., 170.,\n",
       "       200., 252., 113., 143.,  51.,  52., 210.,  65., 141.,  55., 134.,\n",
       "        42., 111.,  98., 164.,  48.,  96.,  90., 162., 150., 279.,  92.,\n",
       "        83., 128., 102., 302., 198.,  95.,  53., 134., 144., 232.,  81.,\n",
       "       104.,  59., 246., 297., 258., 229., 275., 281., 179., 200., 200.,\n",
       "       173., 180.,  84., 121., 161.,  99., 109., 115., 268., 274., 158.,\n",
       "       107.,  83., 103., 272.,  85., 280., 336., 281., 118., 317., 235.,\n",
       "        60., 174., 259., 178., 128.,  96., 126., 288.,  88., 292.,  71.,\n",
       "       197., 186.,  25.,  84.,  96., 195.,  53., 217., 172., 131., 214.,\n",
       "        59.,  70., 220., 268., 152.,  47.,  74., 295., 101., 151., 127.,\n",
       "       237., 225.,  81., 151., 107.,  64., 138., 185., 265., 101., 137.,\n",
       "       143., 141.,  79., 292., 178.,  91., 116.,  86., 122.,  72., 129.,\n",
       "       142.,  90., 158.,  39., 196., 222., 277.,  99., 196., 202., 155.,\n",
       "        77., 191.,  70.,  73.,  49.,  65., 263., 248., 296., 214., 185.,\n",
       "        78.,  93., 252., 150.,  77., 208.,  77., 108., 160.,  53., 220.,\n",
       "       154., 259.,  90., 246., 124.,  67.,  72., 257., 262., 275., 177.,\n",
       "        71.,  47., 187., 125.,  78.,  51., 258., 215., 303., 243.,  91.,\n",
       "       150., 310., 153., 346.,  63.,  89.,  50.,  39., 103., 308., 116.,\n",
       "       145.,  74.,  45., 115., 264.,  87., 202., 127., 182., 241.,  66.,\n",
       "        94., 283.,  64., 102., 200., 265.,  94., 230., 181., 156., 233.,\n",
       "        60., 219.,  80.,  68., 332., 248.,  84., 200.,  55.,  85.,  89.,\n",
       "        31., 129.,  83., 275.,  65., 198., 236., 253., 124.,  44., 172.,\n",
       "       114., 142., 109., 180., 144., 163., 147.,  97., 220., 190., 109.,\n",
       "       191., 122., 230., 242., 248., 249., 192., 131., 237.,  78., 135.,\n",
       "       244., 199., 270., 164.,  72.,  96., 306.,  91., 214.,  95., 216.,\n",
       "       263., 178., 113., 200., 139., 139.,  88., 148.,  88., 243.,  71.,\n",
       "        77., 109., 272.,  60.,  54., 221.,  90., 311., 281., 182., 321.,\n",
       "        58., 262., 206., 233., 242., 123., 167.,  63., 197.,  71., 168.,\n",
       "       140., 217., 121., 235., 245.,  40.,  52., 104., 132.,  88.,  69.,\n",
       "       219.,  72., 201., 110.,  51., 277.,  63., 118.,  69., 273., 258.,\n",
       "        43., 198., 242., 232., 175.,  93., 168., 275., 293., 281.,  72.,\n",
       "       140., 189., 181., 209., 136., 261., 113., 131., 174., 257.,  55.,\n",
       "        84.,  42., 146., 212., 233.,  91., 111., 152., 120.,  67., 310.,\n",
       "        94., 183.,  66., 173.,  72.,  49.,  64.,  48., 178., 104., 132.,\n",
       "       220.,  57.])"
      ]
     },
     "execution_count": 6,
     "metadata": {},
     "output_type": "execute_result"
    }
   ],
   "source": [
    "y"
   ]
  },
  {
   "cell_type": "code",
   "execution_count": 7,
   "id": "6e63284a",
   "metadata": {
    "execution": {
     "iopub.execute_input": "2022-11-29T10:03:36.589241Z",
     "iopub.status.busy": "2022-11-29T10:03:36.588761Z",
     "iopub.status.idle": "2022-11-29T10:03:36.594567Z",
     "shell.execute_reply": "2022-11-29T10:03:36.593732Z"
    },
    "papermill": {
     "duration": 0.022319,
     "end_time": "2022-11-29T10:03:36.599579",
     "exception": false,
     "start_time": "2022-11-29T10:03:36.577260",
     "status": "completed"
    },
    "tags": []
   },
   "outputs": [
    {
     "data": {
      "text/plain": [
       "(442,)"
      ]
     },
     "execution_count": 7,
     "metadata": {},
     "output_type": "execute_result"
    }
   ],
   "source": [
    "y.shape"
   ]
  },
  {
   "cell_type": "code",
   "execution_count": 8,
   "id": "b48da7cd",
   "metadata": {
    "execution": {
     "iopub.execute_input": "2022-11-29T10:03:36.614426Z",
     "iopub.status.busy": "2022-11-29T10:03:36.613342Z",
     "iopub.status.idle": "2022-11-29T10:03:36.676859Z",
     "shell.execute_reply": "2022-11-29T10:03:36.675401Z"
    },
    "papermill": {
     "duration": 0.074481,
     "end_time": "2022-11-29T10:03:36.679891",
     "exception": false,
     "start_time": "2022-11-29T10:03:36.605410",
     "status": "completed"
    },
    "tags": []
   },
   "outputs": [],
   "source": [
    "from sklearn.model_selection import train_test_split"
   ]
  },
  {
   "cell_type": "code",
   "execution_count": 9,
   "id": "bc286e60",
   "metadata": {
    "execution": {
     "iopub.execute_input": "2022-11-29T10:03:36.692486Z",
     "iopub.status.busy": "2022-11-29T10:03:36.692024Z",
     "iopub.status.idle": "2022-11-29T10:03:36.701705Z",
     "shell.execute_reply": "2022-11-29T10:03:36.700369Z"
    },
    "papermill": {
     "duration": 0.019193,
     "end_time": "2022-11-29T10:03:36.704503",
     "exception": false,
     "start_time": "2022-11-29T10:03:36.685310",
     "status": "completed"
    },
    "tags": []
   },
   "outputs": [],
   "source": [
    "X_train,X_test,y_train,y_test=train_test_split(X,y,test_size=0.2,random_state=2)"
   ]
  },
  {
   "cell_type": "code",
   "execution_count": 10,
   "id": "df85de68",
   "metadata": {
    "execution": {
     "iopub.execute_input": "2022-11-29T10:03:36.717452Z",
     "iopub.status.busy": "2022-11-29T10:03:36.716925Z",
     "iopub.status.idle": "2022-11-29T10:03:36.723830Z",
     "shell.execute_reply": "2022-11-29T10:03:36.722531Z"
    },
    "papermill": {
     "duration": 0.016774,
     "end_time": "2022-11-29T10:03:36.726635",
     "exception": false,
     "start_time": "2022-11-29T10:03:36.709861",
     "status": "completed"
    },
    "tags": []
   },
   "outputs": [
    {
     "name": "stdout",
     "output_type": "stream",
     "text": [
      "(353, 10)\n",
      "(89, 10)\n"
     ]
    }
   ],
   "source": [
    "print(X_train.shape)\n",
    "print(X_test.shape)"
   ]
  },
  {
   "cell_type": "markdown",
   "id": "37c041f2",
   "metadata": {
    "papermill": {
     "duration": 0.007281,
     "end_time": "2022-11-29T10:03:36.739311",
     "exception": false,
     "start_time": "2022-11-29T10:03:36.732030",
     "status": "completed"
    },
    "tags": []
   },
   "source": [
    "**Code From Scratch**"
   ]
  },
  {
   "cell_type": "markdown",
   "id": "40cb3692",
   "metadata": {
    "papermill": {
     "duration": 0.00506,
     "end_time": "2022-11-29T10:03:36.749741",
     "exception": false,
     "start_time": "2022-11-29T10:03:36.744681",
     "status": "completed"
    },
    "tags": []
   },
   "source": [
    "**Making Linear Regression class**"
   ]
  },
  {
   "cell_type": "code",
   "execution_count": 11,
   "id": "89037d1b",
   "metadata": {
    "execution": {
     "iopub.execute_input": "2022-11-29T10:03:36.762901Z",
     "iopub.status.busy": "2022-11-29T10:03:36.762378Z",
     "iopub.status.idle": "2022-11-29T10:03:36.771919Z",
     "shell.execute_reply": "2022-11-29T10:03:36.770442Z"
    },
    "papermill": {
     "duration": 0.019576,
     "end_time": "2022-11-29T10:03:36.774695",
     "exception": false,
     "start_time": "2022-11-29T10:03:36.755119",
     "status": "completed"
    },
    "tags": []
   },
   "outputs": [],
   "source": [
    "class Linear_reg:\n",
    "    \n",
    "    def __init__(self):\n",
    "        self.coef_=None\n",
    "        self.intercept_=None\n",
    "    \n",
    "    def fit(self,X_train,y_train):\n",
    "        #adding one column with all values 1\n",
    "        X_train=np.insert(X_train,0,1,axis=1)\n",
    "        \n",
    "        #calculate the coefficient\n",
    "        betas=np.linalg.inv(np.dot(X_train.T,X_train)).dot(X_train.T).dot(y_train)\n",
    "        print(\"All Betas: \",betas)\n",
    "        self.coef_=betas[1:]\n",
    "        self.intercept_=betas[0]\n",
    "        print(\"Coeficient: \",self.coef_)\n",
    "        print(\"Intercept: \",self.intercept_)\n",
    "    def predict(self,X_test):\n",
    "        pass"
   ]
  },
  {
   "cell_type": "code",
   "execution_count": 12,
   "id": "2e76761b",
   "metadata": {
    "execution": {
     "iopub.execute_input": "2022-11-29T10:03:36.787571Z",
     "iopub.status.busy": "2022-11-29T10:03:36.787029Z",
     "iopub.status.idle": "2022-11-29T10:03:36.796920Z",
     "shell.execute_reply": "2022-11-29T10:03:36.795443Z"
    },
    "papermill": {
     "duration": 0.019546,
     "end_time": "2022-11-29T10:03:36.799577",
     "exception": false,
     "start_time": "2022-11-29T10:03:36.780031",
     "status": "completed"
    },
    "tags": []
   },
   "outputs": [
    {
     "data": {
      "text/plain": [
       "array([[-0.00188202, -0.04464164, -0.06979687, ..., -0.03949338,\n",
       "        -0.06291295,  0.04034337],\n",
       "       [-0.00914709, -0.04464164,  0.01103904, ..., -0.03949338,\n",
       "         0.01703713, -0.0052198 ],\n",
       "       [ 0.02354575,  0.05068012, -0.02021751, ..., -0.03949338,\n",
       "        -0.09643322, -0.01764613],\n",
       "       ...,\n",
       "       [ 0.06350368,  0.05068012, -0.00405033, ..., -0.00259226,\n",
       "         0.08449528, -0.01764613],\n",
       "       [-0.05273755,  0.05068012, -0.01806189, ...,  0.1081111 ,\n",
       "         0.03605579, -0.04249877],\n",
       "       [ 0.00175052,  0.05068012,  0.05954058, ...,  0.1081111 ,\n",
       "         0.06898221,  0.12732762]])"
      ]
     },
     "execution_count": 12,
     "metadata": {},
     "output_type": "execute_result"
    }
   ],
   "source": [
    "X_train"
   ]
  },
  {
   "cell_type": "code",
   "execution_count": 13,
   "id": "9d11b726",
   "metadata": {
    "execution": {
     "iopub.execute_input": "2022-11-29T10:03:36.812752Z",
     "iopub.status.busy": "2022-11-29T10:03:36.812221Z",
     "iopub.status.idle": "2022-11-29T10:03:36.822318Z",
     "shell.execute_reply": "2022-11-29T10:03:36.820939Z"
    },
    "papermill": {
     "duration": 0.01979,
     "end_time": "2022-11-29T10:03:36.824929",
     "exception": false,
     "start_time": "2022-11-29T10:03:36.805139",
     "status": "completed"
    },
    "tags": []
   },
   "outputs": [
    {
     "data": {
      "text/plain": [
       "array([[ 1.        , -0.00188202, -0.04464164, ..., -0.03949338,\n",
       "        -0.06291295,  0.04034337],\n",
       "       [ 1.        , -0.00914709, -0.04464164, ..., -0.03949338,\n",
       "         0.01703713, -0.0052198 ],\n",
       "       [ 1.        ,  0.02354575,  0.05068012, ..., -0.03949338,\n",
       "        -0.09643322, -0.01764613],\n",
       "       ...,\n",
       "       [ 1.        ,  0.06350368,  0.05068012, ..., -0.00259226,\n",
       "         0.08449528, -0.01764613],\n",
       "       [ 1.        , -0.05273755,  0.05068012, ...,  0.1081111 ,\n",
       "         0.03605579, -0.04249877],\n",
       "       [ 1.        ,  0.00175052,  0.05068012, ...,  0.1081111 ,\n",
       "         0.06898221,  0.12732762]])"
      ]
     },
     "execution_count": 13,
     "metadata": {},
     "output_type": "execute_result"
    }
   ],
   "source": [
    "np.insert(X_train,0,1,axis=1)"
   ]
  },
  {
   "cell_type": "code",
   "execution_count": 14,
   "id": "2f977f8c",
   "metadata": {
    "execution": {
     "iopub.execute_input": "2022-11-29T10:03:36.838889Z",
     "iopub.status.busy": "2022-11-29T10:03:36.838387Z",
     "iopub.status.idle": "2022-11-29T10:03:36.844950Z",
     "shell.execute_reply": "2022-11-29T10:03:36.843371Z"
    },
    "papermill": {
     "duration": 0.017477,
     "end_time": "2022-11-29T10:03:36.848123",
     "exception": false,
     "start_time": "2022-11-29T10:03:36.830646",
     "status": "completed"
    },
    "tags": []
   },
   "outputs": [],
   "source": [
    "lr=Linear_reg()"
   ]
  },
  {
   "cell_type": "code",
   "execution_count": 15,
   "id": "c605b647",
   "metadata": {
    "execution": {
     "iopub.execute_input": "2022-11-29T10:03:36.862079Z",
     "iopub.status.busy": "2022-11-29T10:03:36.861582Z",
     "iopub.status.idle": "2022-11-29T10:03:36.881191Z",
     "shell.execute_reply": "2022-11-29T10:03:36.879559Z"
    },
    "papermill": {
     "duration": 0.032876,
     "end_time": "2022-11-29T10:03:36.886763",
     "exception": false,
     "start_time": "2022-11-29T10:03:36.853887",
     "status": "completed"
    },
    "tags": []
   },
   "outputs": [
    {
     "name": "stdout",
     "output_type": "stream",
     "text": [
      "All Betas:  [ 151.88334521   -9.16088483 -205.46225988  516.68462383  340.62734108\n",
      " -895.54360867  561.21453306  153.88478595  126.73431596  861.12139955\n",
      "   52.41982836]\n",
      "Coeficient:  [  -9.16088483 -205.46225988  516.68462383  340.62734108 -895.54360867\n",
      "  561.21453306  153.88478595  126.73431596  861.12139955   52.41982836]\n",
      "Intercept:  151.88334520854627\n"
     ]
    }
   ],
   "source": [
    "lr.fit(X_train,y_train)"
   ]
  },
  {
   "cell_type": "code",
   "execution_count": null,
   "id": "161c5879",
   "metadata": {
    "papermill": {
     "duration": 0.014045,
     "end_time": "2022-11-29T10:03:36.914241",
     "exception": false,
     "start_time": "2022-11-29T10:03:36.900196",
     "status": "completed"
    },
    "tags": []
   },
   "outputs": [],
   "source": []
  }
 ],
 "metadata": {
  "kernelspec": {
   "display_name": "Python 3",
   "language": "python",
   "name": "python3"
  },
  "language_info": {
   "codemirror_mode": {
    "name": "ipython",
    "version": 3
   },
   "file_extension": ".py",
   "mimetype": "text/x-python",
   "name": "python",
   "nbconvert_exporter": "python",
   "pygments_lexer": "ipython3",
   "version": "3.7.12"
  },
  "papermill": {
   "default_parameters": {},
   "duration": 12.456868,
   "end_time": "2022-11-29T10:03:38.064979",
   "environment_variables": {},
   "exception": null,
   "input_path": "__notebook__.ipynb",
   "output_path": "__notebook__.ipynb",
   "parameters": {},
   "start_time": "2022-11-29T10:03:25.608111",
   "version": "2.3.4"
  }
 },
 "nbformat": 4,
 "nbformat_minor": 5
}
